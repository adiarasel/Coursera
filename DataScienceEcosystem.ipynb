{
  "cells": [
    {
      "cell_type": "markdown",
      "metadata": {
        "id": "0QvyPmENzmT-"
      },
      "source": [
        "<center>\n",
        "    <img src=\"https://cf-courses-data.s3.us.cloud-object-storage.appdomain.cloud/IBMDeveloperSkillsNetwork-DS0105EN-SkillsNetwork/labs/Module2/images/SN_web_lightmode.png\" width=\"300\" alt=\"cognitiveclass.ai logo\">\n",
        "</center>\n"
      ]
    },
    {
      "cell_type": "markdown",
      "metadata": {
        "id": "XdDMpt4IzmUA"
      },
      "source": [
        "#### Add your code below following the instructions given in the course\n"
      ]
    },
    {
      "cell_type": "markdown",
      "source": [
        "# Data Science Tools and Ecosystem"
      ],
      "metadata": {
        "id": "9wFhxb680RNb"
      }
    },
    {
      "cell_type": "markdown",
      "source": [
        "In this notebook, Data Science Tools and Ecosystem are summarized."
      ],
      "metadata": {
        "id": "HhntGoCk1VW6"
      }
    },
    {
      "cell_type": "markdown",
      "source": [
        "Some of the popular languages that Data Scientists use are:\n",
        "\n",
        "1. Python\n",
        "2. R\n",
        "3. SQL"
      ],
      "metadata": {
        "id": "kiD3N1hJIJlf"
      }
    },
    {
      "cell_type": "markdown",
      "source": [
        "Some of the popular libraries that Data Scientists use are:\n",
        "\n",
        "1. NumPy\n",
        "2. Matplotlib\n",
        "3. Pandas\n",
        "4. SciPy\n",
        "5. PyTorch, and more!"
      ],
      "metadata": {
        "id": "83Mk6Hpd1i6G"
      }
    },
    {
      "cell_type": "markdown",
      "source": [
        "| Data Science Tools |\n",
        "| -------------|\n",
        "| Apache Spark |\n",
        "| TensorFlow |\n",
        "| RStudio |"
      ],
      "metadata": {
        "id": "AyeJkcOB83kp"
      }
    },
    {
      "cell_type": "markdown",
      "source": [
        "### Below are a few examples of evaluating arithmetic expressions in Python:"
      ],
      "metadata": {
        "id": "Z04txQvAKYHI"
      }
    },
    {
      "cell_type": "code",
      "source": [
        "# This a simple arithmetic expression to mutiply then add integers\n",
        "(3*4)+5"
      ],
      "metadata": {
        "colab": {
          "base_uri": "https://localhost:8080/"
        },
        "id": "yRXaARhZKZqF",
        "outputId": "3effd8f1-0561-4d26-98b4-a51e1c9e984a"
      },
      "execution_count": 2,
      "outputs": [
        {
          "output_type": "execute_result",
          "data": {
            "text/plain": [
              "17"
            ]
          },
          "metadata": {},
          "execution_count": 2
        }
      ]
    },
    {
      "cell_type": "code",
      "source": [
        "# This will convert 200 minutes to hours by diving by 60\n",
        "200 / 60"
      ],
      "metadata": {
        "colab": {
          "base_uri": "https://localhost:8080/"
        },
        "id": "6OB9KHnhKqAl",
        "outputId": "feca8c51-1ae0-4d6e-bac9-dd50f6251b33"
      },
      "execution_count": 3,
      "outputs": [
        {
          "output_type": "execute_result",
          "data": {
            "text/plain": [
              "3.3333333333333335"
            ]
          },
          "metadata": {},
          "execution_count": 3
        }
      ]
    },
    {
      "cell_type": "markdown",
      "source": [
        "**Objectives**\n",
        "\n",
        "\n",
        "*   List at least 3 languages used by Data Scientists\n",
        "*   List at least 3 libraries used by Data Scientists\n",
        "*   Write various operations in arithmetic in code\n",
        "*   Learn how to make various heading and text styles\n",
        "\n"
      ],
      "metadata": {
        "id": "fdPvBcSZMyqX"
      }
    },
    {
      "cell_type": "markdown",
      "source": [
        "## Author\n",
        "Aditikrishna Mandula"
      ],
      "metadata": {
        "id": "a9W3VhTQPyVF"
      }
    }
  ],
  "metadata": {
    "kernelspec": {
      "display_name": "Python",
      "language": "python",
      "name": "conda-env-python-py"
    },
    "language_info": {
      "name": ""
    },
    "colab": {
      "provenance": []
    }
  },
  "nbformat": 4,
  "nbformat_minor": 0
}